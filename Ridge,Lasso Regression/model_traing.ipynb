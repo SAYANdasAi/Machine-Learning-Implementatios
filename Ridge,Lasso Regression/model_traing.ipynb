{
 "cells": [
  {
   "cell_type": "code",
   "execution_count": 1,
   "metadata": {},
   "outputs": [],
   "source": [
    "import pandas as pd\n",
    "import numpy as np\n",
    "import matplotlib.pyplot as plt\n",
    "import seaborn as sns\n",
    "%matplotlib inline"
   ]
  },
  {
   "cell_type": "code",
   "execution_count": 2,
   "metadata": {},
   "outputs": [],
   "source": [
    "df = pd.read_csv('Algerian_forest_fires_dataset_cleaned_dataset.csv')"
   ]
  },
  {
   "cell_type": "code",
   "execution_count": 3,
   "metadata": {},
   "outputs": [
    {
     "data": {
      "text/html": [
       "<div>\n",
       "<style scoped>\n",
       "    .dataframe tbody tr th:only-of-type {\n",
       "        vertical-align: middle;\n",
       "    }\n",
       "\n",
       "    .dataframe tbody tr th {\n",
       "        vertical-align: top;\n",
       "    }\n",
       "\n",
       "    .dataframe thead th {\n",
       "        text-align: right;\n",
       "    }\n",
       "</style>\n",
       "<table border=\"1\" class=\"dataframe\">\n",
       "  <thead>\n",
       "    <tr style=\"text-align: right;\">\n",
       "      <th></th>\n",
       "      <th>day</th>\n",
       "      <th>month</th>\n",
       "      <th>year</th>\n",
       "      <th>Temperature</th>\n",
       "      <th>RH</th>\n",
       "      <th>Ws</th>\n",
       "      <th>Rain</th>\n",
       "      <th>FFMC</th>\n",
       "      <th>DMC</th>\n",
       "      <th>DC</th>\n",
       "      <th>ISI</th>\n",
       "      <th>BUI</th>\n",
       "      <th>FWI</th>\n",
       "      <th>Classes</th>\n",
       "      <th>Region</th>\n",
       "    </tr>\n",
       "  </thead>\n",
       "  <tbody>\n",
       "    <tr>\n",
       "      <th>0</th>\n",
       "      <td>1</td>\n",
       "      <td>6</td>\n",
       "      <td>2012</td>\n",
       "      <td>29</td>\n",
       "      <td>57</td>\n",
       "      <td>18.0</td>\n",
       "      <td>0.0</td>\n",
       "      <td>65.7</td>\n",
       "      <td>3.4</td>\n",
       "      <td>7.6</td>\n",
       "      <td>1.3</td>\n",
       "      <td>3.4</td>\n",
       "      <td>0.5</td>\n",
       "      <td>not fire</td>\n",
       "      <td>0</td>\n",
       "    </tr>\n",
       "    <tr>\n",
       "      <th>1</th>\n",
       "      <td>2</td>\n",
       "      <td>6</td>\n",
       "      <td>2012</td>\n",
       "      <td>29</td>\n",
       "      <td>61</td>\n",
       "      <td>13.0</td>\n",
       "      <td>1.3</td>\n",
       "      <td>64.4</td>\n",
       "      <td>4.1</td>\n",
       "      <td>7.6</td>\n",
       "      <td>1.0</td>\n",
       "      <td>3.9</td>\n",
       "      <td>0.4</td>\n",
       "      <td>not fire</td>\n",
       "      <td>0</td>\n",
       "    </tr>\n",
       "    <tr>\n",
       "      <th>2</th>\n",
       "      <td>3</td>\n",
       "      <td>6</td>\n",
       "      <td>2012</td>\n",
       "      <td>26</td>\n",
       "      <td>82</td>\n",
       "      <td>22.0</td>\n",
       "      <td>13.1</td>\n",
       "      <td>47.1</td>\n",
       "      <td>2.5</td>\n",
       "      <td>7.1</td>\n",
       "      <td>0.3</td>\n",
       "      <td>2.7</td>\n",
       "      <td>0.1</td>\n",
       "      <td>not fire</td>\n",
       "      <td>0</td>\n",
       "    </tr>\n",
       "    <tr>\n",
       "      <th>3</th>\n",
       "      <td>4</td>\n",
       "      <td>6</td>\n",
       "      <td>2012</td>\n",
       "      <td>25</td>\n",
       "      <td>89</td>\n",
       "      <td>13.0</td>\n",
       "      <td>2.5</td>\n",
       "      <td>28.6</td>\n",
       "      <td>1.3</td>\n",
       "      <td>6.9</td>\n",
       "      <td>0.0</td>\n",
       "      <td>1.7</td>\n",
       "      <td>0.0</td>\n",
       "      <td>not fire</td>\n",
       "      <td>0</td>\n",
       "    </tr>\n",
       "    <tr>\n",
       "      <th>4</th>\n",
       "      <td>5</td>\n",
       "      <td>6</td>\n",
       "      <td>2012</td>\n",
       "      <td>27</td>\n",
       "      <td>77</td>\n",
       "      <td>16.0</td>\n",
       "      <td>0.0</td>\n",
       "      <td>64.8</td>\n",
       "      <td>3.0</td>\n",
       "      <td>14.2</td>\n",
       "      <td>1.2</td>\n",
       "      <td>3.9</td>\n",
       "      <td>0.5</td>\n",
       "      <td>not fire</td>\n",
       "      <td>0</td>\n",
       "    </tr>\n",
       "  </tbody>\n",
       "</table>\n",
       "</div>"
      ],
      "text/plain": [
       "   day  month  year  Temperature  RH    Ws  Rain  FFMC  DMC    DC  ISI  BUI  \\\n",
       "0    1      6  2012           29  57  18.0   0.0  65.7  3.4   7.6  1.3  3.4   \n",
       "1    2      6  2012           29  61  13.0   1.3  64.4  4.1   7.6  1.0  3.9   \n",
       "2    3      6  2012           26  82  22.0  13.1  47.1  2.5   7.1  0.3  2.7   \n",
       "3    4      6  2012           25  89  13.0   2.5  28.6  1.3   6.9  0.0  1.7   \n",
       "4    5      6  2012           27  77  16.0   0.0  64.8  3.0  14.2  1.2  3.9   \n",
       "\n",
       "   FWI      Classes  Region  \n",
       "0  0.5  not fire          0  \n",
       "1  0.4  not fire          0  \n",
       "2  0.1  not fire          0  \n",
       "3  0.0  not fire          0  \n",
       "4  0.5  not fire          0  "
      ]
     },
     "execution_count": 3,
     "metadata": {},
     "output_type": "execute_result"
    }
   ],
   "source": [
    "df.head()"
   ]
  },
  {
   "cell_type": "code",
   "execution_count": 4,
   "metadata": {},
   "outputs": [
    {
     "data": {
      "text/plain": [
       "Index(['day', 'month', 'year', 'Temperature', 'RH', 'Ws', 'Rain', 'FFMC',\n",
       "       'DMC', 'DC', 'ISI', 'BUI', 'FWI', 'Classes', 'Region'],\n",
       "      dtype='object')"
      ]
     },
     "execution_count": 4,
     "metadata": {},
     "output_type": "execute_result"
    }
   ],
   "source": [
    "df.columns"
   ]
  },
  {
   "cell_type": "code",
   "execution_count": 5,
   "metadata": {},
   "outputs": [],
   "source": [
    "## drop day, month, year \n",
    "df.drop(['day','month','year'],axis=1,inplace=True)"
   ]
  },
  {
   "cell_type": "code",
   "execution_count": 6,
   "metadata": {},
   "outputs": [
    {
     "data": {
      "text/html": [
       "<div>\n",
       "<style scoped>\n",
       "    .dataframe tbody tr th:only-of-type {\n",
       "        vertical-align: middle;\n",
       "    }\n",
       "\n",
       "    .dataframe tbody tr th {\n",
       "        vertical-align: top;\n",
       "    }\n",
       "\n",
       "    .dataframe thead th {\n",
       "        text-align: right;\n",
       "    }\n",
       "</style>\n",
       "<table border=\"1\" class=\"dataframe\">\n",
       "  <thead>\n",
       "    <tr style=\"text-align: right;\">\n",
       "      <th></th>\n",
       "      <th>Temperature</th>\n",
       "      <th>RH</th>\n",
       "      <th>Ws</th>\n",
       "      <th>Rain</th>\n",
       "      <th>FFMC</th>\n",
       "      <th>DMC</th>\n",
       "      <th>DC</th>\n",
       "      <th>ISI</th>\n",
       "      <th>BUI</th>\n",
       "      <th>FWI</th>\n",
       "      <th>Classes</th>\n",
       "      <th>Region</th>\n",
       "    </tr>\n",
       "  </thead>\n",
       "  <tbody>\n",
       "    <tr>\n",
       "      <th>0</th>\n",
       "      <td>29</td>\n",
       "      <td>57</td>\n",
       "      <td>18.0</td>\n",
       "      <td>0.0</td>\n",
       "      <td>65.7</td>\n",
       "      <td>3.4</td>\n",
       "      <td>7.6</td>\n",
       "      <td>1.3</td>\n",
       "      <td>3.4</td>\n",
       "      <td>0.5</td>\n",
       "      <td>not fire</td>\n",
       "      <td>0</td>\n",
       "    </tr>\n",
       "    <tr>\n",
       "      <th>1</th>\n",
       "      <td>29</td>\n",
       "      <td>61</td>\n",
       "      <td>13.0</td>\n",
       "      <td>1.3</td>\n",
       "      <td>64.4</td>\n",
       "      <td>4.1</td>\n",
       "      <td>7.6</td>\n",
       "      <td>1.0</td>\n",
       "      <td>3.9</td>\n",
       "      <td>0.4</td>\n",
       "      <td>not fire</td>\n",
       "      <td>0</td>\n",
       "    </tr>\n",
       "    <tr>\n",
       "      <th>2</th>\n",
       "      <td>26</td>\n",
       "      <td>82</td>\n",
       "      <td>22.0</td>\n",
       "      <td>13.1</td>\n",
       "      <td>47.1</td>\n",
       "      <td>2.5</td>\n",
       "      <td>7.1</td>\n",
       "      <td>0.3</td>\n",
       "      <td>2.7</td>\n",
       "      <td>0.1</td>\n",
       "      <td>not fire</td>\n",
       "      <td>0</td>\n",
       "    </tr>\n",
       "    <tr>\n",
       "      <th>3</th>\n",
       "      <td>25</td>\n",
       "      <td>89</td>\n",
       "      <td>13.0</td>\n",
       "      <td>2.5</td>\n",
       "      <td>28.6</td>\n",
       "      <td>1.3</td>\n",
       "      <td>6.9</td>\n",
       "      <td>0.0</td>\n",
       "      <td>1.7</td>\n",
       "      <td>0.0</td>\n",
       "      <td>not fire</td>\n",
       "      <td>0</td>\n",
       "    </tr>\n",
       "    <tr>\n",
       "      <th>4</th>\n",
       "      <td>27</td>\n",
       "      <td>77</td>\n",
       "      <td>16.0</td>\n",
       "      <td>0.0</td>\n",
       "      <td>64.8</td>\n",
       "      <td>3.0</td>\n",
       "      <td>14.2</td>\n",
       "      <td>1.2</td>\n",
       "      <td>3.9</td>\n",
       "      <td>0.5</td>\n",
       "      <td>not fire</td>\n",
       "      <td>0</td>\n",
       "    </tr>\n",
       "  </tbody>\n",
       "</table>\n",
       "</div>"
      ],
      "text/plain": [
       "   Temperature  RH    Ws  Rain  FFMC  DMC    DC  ISI  BUI  FWI      Classes  \\\n",
       "0           29  57  18.0   0.0  65.7  3.4   7.6  1.3  3.4  0.5  not fire      \n",
       "1           29  61  13.0   1.3  64.4  4.1   7.6  1.0  3.9  0.4  not fire      \n",
       "2           26  82  22.0  13.1  47.1  2.5   7.1  0.3  2.7  0.1  not fire      \n",
       "3           25  89  13.0   2.5  28.6  1.3   6.9  0.0  1.7  0.0  not fire      \n",
       "4           27  77  16.0   0.0  64.8  3.0  14.2  1.2  3.9  0.5  not fire      \n",
       "\n",
       "   Region  \n",
       "0       0  \n",
       "1       0  \n",
       "2       0  \n",
       "3       0  \n",
       "4       0  "
      ]
     },
     "execution_count": 6,
     "metadata": {},
     "output_type": "execute_result"
    }
   ],
   "source": [
    "df.head()"
   ]
  },
  {
   "cell_type": "code",
   "execution_count": 7,
   "metadata": {},
   "outputs": [
    {
     "data": {
      "text/plain": [
       "Classes\n",
       "fire             131\n",
       "not fire         101\n",
       "fire               4\n",
       "fire               2\n",
       "not fire           2\n",
       "not fire           1\n",
       "not fire           1\n",
       "not fire           1\n",
       "Name: count, dtype: int64"
      ]
     },
     "execution_count": 7,
     "metadata": {},
     "output_type": "execute_result"
    }
   ],
   "source": [
    "df['Classes'].value_counts()"
   ]
  },
  {
   "cell_type": "code",
   "execution_count": 8,
   "metadata": {},
   "outputs": [],
   "source": [
    "## encoding\n",
    "df['Classes']=np.where(df['Classes'].str.contains('not fire'),0,1)"
   ]
  },
  {
   "cell_type": "code",
   "execution_count": 9,
   "metadata": {},
   "outputs": [
    {
     "data": {
      "text/plain": [
       "Classes\n",
       "1    137\n",
       "0    106\n",
       "Name: count, dtype: int64"
      ]
     },
     "execution_count": 9,
     "metadata": {},
     "output_type": "execute_result"
    }
   ],
   "source": [
    "df['Classes'].value_counts()"
   ]
  },
  {
   "cell_type": "code",
   "execution_count": 10,
   "metadata": {},
   "outputs": [
    {
     "data": {
      "text/html": [
       "<div>\n",
       "<style scoped>\n",
       "    .dataframe tbody tr th:only-of-type {\n",
       "        vertical-align: middle;\n",
       "    }\n",
       "\n",
       "    .dataframe tbody tr th {\n",
       "        vertical-align: top;\n",
       "    }\n",
       "\n",
       "    .dataframe thead th {\n",
       "        text-align: right;\n",
       "    }\n",
       "</style>\n",
       "<table border=\"1\" class=\"dataframe\">\n",
       "  <thead>\n",
       "    <tr style=\"text-align: right;\">\n",
       "      <th></th>\n",
       "      <th>Temperature</th>\n",
       "      <th>RH</th>\n",
       "      <th>Ws</th>\n",
       "      <th>Rain</th>\n",
       "      <th>FFMC</th>\n",
       "      <th>DMC</th>\n",
       "      <th>DC</th>\n",
       "      <th>ISI</th>\n",
       "      <th>BUI</th>\n",
       "      <th>FWI</th>\n",
       "      <th>Classes</th>\n",
       "      <th>Region</th>\n",
       "    </tr>\n",
       "  </thead>\n",
       "  <tbody>\n",
       "    <tr>\n",
       "      <th>0</th>\n",
       "      <td>29</td>\n",
       "      <td>57</td>\n",
       "      <td>18.0</td>\n",
       "      <td>0.0</td>\n",
       "      <td>65.7</td>\n",
       "      <td>3.4</td>\n",
       "      <td>7.6</td>\n",
       "      <td>1.3</td>\n",
       "      <td>3.4</td>\n",
       "      <td>0.5</td>\n",
       "      <td>0</td>\n",
       "      <td>0</td>\n",
       "    </tr>\n",
       "    <tr>\n",
       "      <th>1</th>\n",
       "      <td>29</td>\n",
       "      <td>61</td>\n",
       "      <td>13.0</td>\n",
       "      <td>1.3</td>\n",
       "      <td>64.4</td>\n",
       "      <td>4.1</td>\n",
       "      <td>7.6</td>\n",
       "      <td>1.0</td>\n",
       "      <td>3.9</td>\n",
       "      <td>0.4</td>\n",
       "      <td>0</td>\n",
       "      <td>0</td>\n",
       "    </tr>\n",
       "    <tr>\n",
       "      <th>2</th>\n",
       "      <td>26</td>\n",
       "      <td>82</td>\n",
       "      <td>22.0</td>\n",
       "      <td>13.1</td>\n",
       "      <td>47.1</td>\n",
       "      <td>2.5</td>\n",
       "      <td>7.1</td>\n",
       "      <td>0.3</td>\n",
       "      <td>2.7</td>\n",
       "      <td>0.1</td>\n",
       "      <td>0</td>\n",
       "      <td>0</td>\n",
       "    </tr>\n",
       "    <tr>\n",
       "      <th>3</th>\n",
       "      <td>25</td>\n",
       "      <td>89</td>\n",
       "      <td>13.0</td>\n",
       "      <td>2.5</td>\n",
       "      <td>28.6</td>\n",
       "      <td>1.3</td>\n",
       "      <td>6.9</td>\n",
       "      <td>0.0</td>\n",
       "      <td>1.7</td>\n",
       "      <td>0.0</td>\n",
       "      <td>0</td>\n",
       "      <td>0</td>\n",
       "    </tr>\n",
       "    <tr>\n",
       "      <th>4</th>\n",
       "      <td>27</td>\n",
       "      <td>77</td>\n",
       "      <td>16.0</td>\n",
       "      <td>0.0</td>\n",
       "      <td>64.8</td>\n",
       "      <td>3.0</td>\n",
       "      <td>14.2</td>\n",
       "      <td>1.2</td>\n",
       "      <td>3.9</td>\n",
       "      <td>0.5</td>\n",
       "      <td>0</td>\n",
       "      <td>0</td>\n",
       "    </tr>\n",
       "  </tbody>\n",
       "</table>\n",
       "</div>"
      ],
      "text/plain": [
       "   Temperature  RH    Ws  Rain  FFMC  DMC    DC  ISI  BUI  FWI  Classes  \\\n",
       "0           29  57  18.0   0.0  65.7  3.4   7.6  1.3  3.4  0.5        0   \n",
       "1           29  61  13.0   1.3  64.4  4.1   7.6  1.0  3.9  0.4        0   \n",
       "2           26  82  22.0  13.1  47.1  2.5   7.1  0.3  2.7  0.1        0   \n",
       "3           25  89  13.0   2.5  28.6  1.3   6.9  0.0  1.7  0.0        0   \n",
       "4           27  77  16.0   0.0  64.8  3.0  14.2  1.2  3.9  0.5        0   \n",
       "\n",
       "   Region  \n",
       "0       0  \n",
       "1       0  \n",
       "2       0  \n",
       "3       0  \n",
       "4       0  "
      ]
     },
     "execution_count": 10,
     "metadata": {},
     "output_type": "execute_result"
    }
   ],
   "source": [
    "df.head()"
   ]
  },
  {
   "cell_type": "code",
   "execution_count": 11,
   "metadata": {},
   "outputs": [],
   "source": [
    "## Independent and Dependent Features\n",
    "x = df.drop(['FWI'],axis=1)\n",
    "y = df['FWI']"
   ]
  },
  {
   "cell_type": "code",
   "execution_count": 12,
   "metadata": {},
   "outputs": [],
   "source": [
    "## Train test split\n",
    "from sklearn.model_selection import train_test_split\n",
    "x_train,x_test,y_train,y_test = train_test_split(x,y,test_size=0.25,random_state=108)"
   ]
  },
  {
   "cell_type": "code",
   "execution_count": 13,
   "metadata": {},
   "outputs": [
    {
     "data": {
      "text/html": [
       "<div>\n",
       "<style scoped>\n",
       "    .dataframe tbody tr th:only-of-type {\n",
       "        vertical-align: middle;\n",
       "    }\n",
       "\n",
       "    .dataframe tbody tr th {\n",
       "        vertical-align: top;\n",
       "    }\n",
       "\n",
       "    .dataframe thead th {\n",
       "        text-align: right;\n",
       "    }\n",
       "</style>\n",
       "<table border=\"1\" class=\"dataframe\">\n",
       "  <thead>\n",
       "    <tr style=\"text-align: right;\">\n",
       "      <th></th>\n",
       "      <th>Temperature</th>\n",
       "      <th>RH</th>\n",
       "      <th>Ws</th>\n",
       "      <th>Rain</th>\n",
       "      <th>FFMC</th>\n",
       "      <th>DMC</th>\n",
       "      <th>DC</th>\n",
       "      <th>ISI</th>\n",
       "      <th>BUI</th>\n",
       "      <th>Classes</th>\n",
       "      <th>Region</th>\n",
       "    </tr>\n",
       "  </thead>\n",
       "  <tbody>\n",
       "    <tr>\n",
       "      <th>Temperature</th>\n",
       "      <td>1.000000</td>\n",
       "      <td>-0.649050</td>\n",
       "      <td>-0.230764</td>\n",
       "      <td>-0.326776</td>\n",
       "      <td>0.695049</td>\n",
       "      <td>0.477100</td>\n",
       "      <td>0.373318</td>\n",
       "      <td>0.629782</td>\n",
       "      <td>0.451010</td>\n",
       "      <td>0.569229</td>\n",
       "      <td>0.258635</td>\n",
       "    </tr>\n",
       "    <tr>\n",
       "      <th>RH</th>\n",
       "      <td>-0.649050</td>\n",
       "      <td>1.000000</td>\n",
       "      <td>0.243862</td>\n",
       "      <td>0.228012</td>\n",
       "      <td>-0.651100</td>\n",
       "      <td>-0.380879</td>\n",
       "      <td>-0.207034</td>\n",
       "      <td>-0.689208</td>\n",
       "      <td>-0.325398</td>\n",
       "      <td>-0.463761</td>\n",
       "      <td>-0.425382</td>\n",
       "    </tr>\n",
       "    <tr>\n",
       "      <th>Ws</th>\n",
       "      <td>-0.230764</td>\n",
       "      <td>0.243862</td>\n",
       "      <td>1.000000</td>\n",
       "      <td>0.124608</td>\n",
       "      <td>-0.141568</td>\n",
       "      <td>0.032145</td>\n",
       "      <td>0.097593</td>\n",
       "      <td>0.045153</td>\n",
       "      <td>0.062787</td>\n",
       "      <td>-0.061138</td>\n",
       "      <td>-0.113069</td>\n",
       "    </tr>\n",
       "    <tr>\n",
       "      <th>Rain</th>\n",
       "      <td>-0.326776</td>\n",
       "      <td>0.228012</td>\n",
       "      <td>0.124608</td>\n",
       "      <td>1.000000</td>\n",
       "      <td>-0.549099</td>\n",
       "      <td>-0.275915</td>\n",
       "      <td>-0.285939</td>\n",
       "      <td>-0.342575</td>\n",
       "      <td>-0.285886</td>\n",
       "      <td>-0.371569</td>\n",
       "      <td>-0.073403</td>\n",
       "    </tr>\n",
       "    <tr>\n",
       "      <th>FFMC</th>\n",
       "      <td>0.695049</td>\n",
       "      <td>-0.651100</td>\n",
       "      <td>-0.141568</td>\n",
       "      <td>-0.549099</td>\n",
       "      <td>1.000000</td>\n",
       "      <td>0.582940</td>\n",
       "      <td>0.481954</td>\n",
       "      <td>0.730902</td>\n",
       "      <td>0.568177</td>\n",
       "      <td>0.770938</td>\n",
       "      <td>0.229225</td>\n",
       "    </tr>\n",
       "    <tr>\n",
       "      <th>DMC</th>\n",
       "      <td>0.477100</td>\n",
       "      <td>-0.380879</td>\n",
       "      <td>0.032145</td>\n",
       "      <td>-0.275915</td>\n",
       "      <td>0.582940</td>\n",
       "      <td>1.000000</td>\n",
       "      <td>0.876633</td>\n",
       "      <td>0.659458</td>\n",
       "      <td>0.981552</td>\n",
       "      <td>0.565712</td>\n",
       "      <td>0.181525</td>\n",
       "    </tr>\n",
       "    <tr>\n",
       "      <th>DC</th>\n",
       "      <td>0.373318</td>\n",
       "      <td>-0.207034</td>\n",
       "      <td>0.097593</td>\n",
       "      <td>-0.285939</td>\n",
       "      <td>0.481954</td>\n",
       "      <td>0.876633</td>\n",
       "      <td>1.000000</td>\n",
       "      <td>0.482799</td>\n",
       "      <td>0.942641</td>\n",
       "      <td>0.481476</td>\n",
       "      <td>-0.080230</td>\n",
       "    </tr>\n",
       "    <tr>\n",
       "      <th>ISI</th>\n",
       "      <td>0.629782</td>\n",
       "      <td>-0.689208</td>\n",
       "      <td>0.045153</td>\n",
       "      <td>-0.342575</td>\n",
       "      <td>0.730902</td>\n",
       "      <td>0.659458</td>\n",
       "      <td>0.482799</td>\n",
       "      <td>1.000000</td>\n",
       "      <td>0.620466</td>\n",
       "      <td>0.722164</td>\n",
       "      <td>0.278346</td>\n",
       "    </tr>\n",
       "    <tr>\n",
       "      <th>BUI</th>\n",
       "      <td>0.451010</td>\n",
       "      <td>-0.325398</td>\n",
       "      <td>0.062787</td>\n",
       "      <td>-0.285886</td>\n",
       "      <td>0.568177</td>\n",
       "      <td>0.981552</td>\n",
       "      <td>0.942641</td>\n",
       "      <td>0.620466</td>\n",
       "      <td>1.000000</td>\n",
       "      <td>0.563559</td>\n",
       "      <td>0.078428</td>\n",
       "    </tr>\n",
       "    <tr>\n",
       "      <th>Classes</th>\n",
       "      <td>0.569229</td>\n",
       "      <td>-0.463761</td>\n",
       "      <td>-0.061138</td>\n",
       "      <td>-0.371569</td>\n",
       "      <td>0.770938</td>\n",
       "      <td>0.565712</td>\n",
       "      <td>0.481476</td>\n",
       "      <td>0.722164</td>\n",
       "      <td>0.563559</td>\n",
       "      <td>1.000000</td>\n",
       "      <td>0.181768</td>\n",
       "    </tr>\n",
       "    <tr>\n",
       "      <th>Region</th>\n",
       "      <td>0.258635</td>\n",
       "      <td>-0.425382</td>\n",
       "      <td>-0.113069</td>\n",
       "      <td>-0.073403</td>\n",
       "      <td>0.229225</td>\n",
       "      <td>0.181525</td>\n",
       "      <td>-0.080230</td>\n",
       "      <td>0.278346</td>\n",
       "      <td>0.078428</td>\n",
       "      <td>0.181768</td>\n",
       "      <td>1.000000</td>\n",
       "    </tr>\n",
       "  </tbody>\n",
       "</table>\n",
       "</div>"
      ],
      "text/plain": [
       "             Temperature        RH        Ws      Rain      FFMC       DMC  \\\n",
       "Temperature     1.000000 -0.649050 -0.230764 -0.326776  0.695049  0.477100   \n",
       "RH             -0.649050  1.000000  0.243862  0.228012 -0.651100 -0.380879   \n",
       "Ws             -0.230764  0.243862  1.000000  0.124608 -0.141568  0.032145   \n",
       "Rain           -0.326776  0.228012  0.124608  1.000000 -0.549099 -0.275915   \n",
       "FFMC            0.695049 -0.651100 -0.141568 -0.549099  1.000000  0.582940   \n",
       "DMC             0.477100 -0.380879  0.032145 -0.275915  0.582940  1.000000   \n",
       "DC              0.373318 -0.207034  0.097593 -0.285939  0.481954  0.876633   \n",
       "ISI             0.629782 -0.689208  0.045153 -0.342575  0.730902  0.659458   \n",
       "BUI             0.451010 -0.325398  0.062787 -0.285886  0.568177  0.981552   \n",
       "Classes         0.569229 -0.463761 -0.061138 -0.371569  0.770938  0.565712   \n",
       "Region          0.258635 -0.425382 -0.113069 -0.073403  0.229225  0.181525   \n",
       "\n",
       "                   DC       ISI       BUI   Classes    Region  \n",
       "Temperature  0.373318  0.629782  0.451010  0.569229  0.258635  \n",
       "RH          -0.207034 -0.689208 -0.325398 -0.463761 -0.425382  \n",
       "Ws           0.097593  0.045153  0.062787 -0.061138 -0.113069  \n",
       "Rain        -0.285939 -0.342575 -0.285886 -0.371569 -0.073403  \n",
       "FFMC         0.481954  0.730902  0.568177  0.770938  0.229225  \n",
       "DMC          0.876633  0.659458  0.981552  0.565712  0.181525  \n",
       "DC           1.000000  0.482799  0.942641  0.481476 -0.080230  \n",
       "ISI          0.482799  1.000000  0.620466  0.722164  0.278346  \n",
       "BUI          0.942641  0.620466  1.000000  0.563559  0.078428  \n",
       "Classes      0.481476  0.722164  0.563559  1.000000  0.181768  \n",
       "Region      -0.080230  0.278346  0.078428  0.181768  1.000000  "
      ]
     },
     "execution_count": 13,
     "metadata": {},
     "output_type": "execute_result"
    }
   ],
   "source": [
    "## Feature Selection Based on correlation\n",
    "x_train.corr()"
   ]
  },
  {
   "cell_type": "code",
   "execution_count": 14,
   "metadata": {},
   "outputs": [
    {
     "data": {
      "text/plain": [
       "<Axes: >"
      ]
     },
     "execution_count": 14,
     "metadata": {},
     "output_type": "execute_result"
    },
    {
     "data": {
      "image/png": "[encoded data removed]",
      "text/plain": [
       "<Figure size 1000x800 with 2 Axes>"
      ]
     },
     "metadata": {},
     "output_type": "display_data"
    }
   ],
   "source": [
    "## Check for multicolinearity\n",
    "plt.figure(figsize=(10,8))\n",
    "corr=x_train.corr()\n",
    "sns.heatmap(corr,annot=True)"
   ]
  },
  {
   "cell_type": "code",
   "execution_count": 15,
   "metadata": {},
   "outputs": [],
   "source": [
    "def correlation(dataset, threshold):\n",
    "    col_corr = set()\n",
    "    corr_matrix = dataset.corr()\n",
    "    for i in range(len(corr_matrix.columns)):\n",
    "        for j in range(i):\n",
    "            if abs(corr_matrix.iloc[i,j])>threshold:\n",
    "                colname = corr_matrix.columns[i]\n",
    "                col_corr.add(colname)\n",
    "    return col_corr"
   ]
  },
  {
   "cell_type": "code",
   "execution_count": 16,
   "metadata": {},
   "outputs": [],
   "source": [
    "## threshold--Domain expertise\n",
    "corr_features=correlation(x_train,0.85)"
   ]
  },
  {
   "cell_type": "code",
   "execution_count": 17,
   "metadata": {},
   "outputs": [],
   "source": [
    "## drop features when correlation is more than 0.85\n",
    "x_train.drop(corr_features,axis=1,inplace=True)\n",
    "x_test.drop(corr_features,axis=1,inplace=True)"
   ]
  },
  {
   "cell_type": "markdown",
   "metadata": {},
   "source": [
    "## Feature Scaling or Standardization"
   ]
  },
  {
   "cell_type": "code",
   "execution_count": 18,
   "metadata": {},
   "outputs": [],
   "source": [
    "from sklearn.preprocessing import StandardScaler\n",
    "scaler = StandardScaler()\n",
    "x_train_scaled = scaler.fit_transform(x_train)\n",
    "x_test_scaled = scaler.transform(x_test)"
   ]
  },
  {
   "cell_type": "markdown",
   "metadata": {},
   "source": [
    "## Box plots to understand Effect of Standard Scaler"
   ]
  },
  {
   "cell_type": "code",
   "execution_count": 19,
   "metadata": {},
   "outputs": [
    {
     "data": {
      "text/plain": [
       "Text(0.5, 1.0, 'x_train After Scaling')"
      ]
     },
     "execution_count": 19,
     "metadata": {},
     "output_type": "execute_result"
    },
    {
     "data": {
      "image/png": "[encoded data removed]",
      "text/plain": [
       "<Figure size 1500x500 with 3 Axes>"
      ]
     },
     "metadata": {},
     "output_type": "display_data"
    }
   ],
   "source": [
    "plt.subplots(figsize=(15,5))\n",
    "plt.subplot(1,2,1)\n",
    "sns.boxplot(x_train)\n",
    "plt.title(\"X_train Before Scaling\")\n",
    "plt.subplot(1,2,2)\n",
    "plt.boxplot(x_train_scaled)\n",
    "plt.title(\"x_train After Scaling\")"
   ]
  },
  {
   "cell_type": "markdown",
   "metadata": {},
   "source": [
    "## Linear Regression Model"
   ]
  },
  {
   "cell_type": "code",
   "execution_count": 21,
   "metadata": {},
   "outputs": [
    {
     "name": "stdout",
     "output_type": "stream",
     "text": [
      "Mean Absolute Error:  0.5418906705857266\n",
      "R2 score:  0.9825364374923976\n"
     ]
    },
    {
     "data": {
      "text/plain": [
       "<matplotlib.collections.PathCollection at 0x139999a7020>"
      ]
     },
     "execution_count": 21,
     "metadata": {},
     "output_type": "execute_result"
    },
    {
     "data": {
      "image/png": "[encoded data removed]",
      "text/plain": [
       "<Figure size 640x480 with 1 Axes>"
      ]
     },
     "metadata": {},
     "output_type": "display_data"
    }
   ],
   "source": [
    "from sklearn.linear_model import LinearRegression\n",
    "from sklearn.metrics import mean_absolute_error\n",
    "from sklearn.metrics import r2_score\n",
    "lr = LinearRegression()\n",
    "lr.fit(x_train_scaled,y_train)\n",
    "y_pred = lr.predict(x_test_scaled)\n",
    "mae = mean_absolute_error(y_test,y_pred)\n",
    "score = r2_score(y_test,y_pred)\n",
    "print(\"Mean Absolute Error: \",mae)\n",
    "print(\"R2 score: \",score)\n",
    "plt.scatter(y_test,y_pred)"
   ]
  },
  {
   "cell_type": "markdown",
   "metadata": {},
   "source": [
    "## Lasso Regression"
   ]
  },
  {
   "cell_type": "code",
   "execution_count": 22,
   "metadata": {},
   "outputs": [
    {
     "name": "stdout",
     "output_type": "stream",
     "text": [
      "Mean Absolute Error:  0.9219933179346289\n",
      "R2 score:  0.9540957788709424\n"
     ]
    },
    {
     "data": {
      "text/plain": [
       "<matplotlib.collections.PathCollection at 0x13999f6f5f0>"
      ]
     },
     "execution_count": 22,
     "metadata": {},
     "output_type": "execute_result"
    },
    {
     "data": {
      "image/png": "[encoded data removed]",
      "text/plain": [
       "<Figure size 640x480 with 1 Axes>"
      ]
     },
     "metadata": {},
     "output_type": "display_data"
    }
   ],
   "source": [
    "from sklearn.linear_model import Lasso\n",
    "from sklearn.metrics import mean_absolute_error\n",
    "from sklearn.metrics import r2_score\n",
    "lasso= Lasso()\n",
    "lasso.fit(x_train_scaled,y_train)\n",
    "y_pred = lasso.predict(x_test_scaled)\n",
    "mae = mean_absolute_error(y_test,y_pred)\n",
    "score = r2_score(y_test,y_pred)\n",
    "print(\"Mean Absolute Error: \",mae)\n",
    "print(\"R2 score: \",score)\n",
    "plt.scatter(y_test,y_pred)"
   ]
  },
  {
   "cell_type": "markdown",
   "metadata": {},
   "source": [
    "## Cross Validation"
   ]
  },
  {
   "cell_type": "code",
   "execution_count": 31,
   "metadata": {},
   "outputs": [
    {
     "data": {
      "text/html": [
       "<style>#sk-container-id-2 {\n",
       "  /* Definition of color scheme common for light and dark mode */\n",
       "  --sklearn-color-text: black;\n",
       "  --sklearn-color-line: gray;\n",
       "  /* Definition of color scheme for unfitted estimators */\n",
       "  --sklearn-color-unfitted-level-0: #fff5e6;\n",
       "  --sklearn-color-unfitted-level-1: #f6e4d2;\n",
       "  --sklearn-color-unfitted-level-2: #ffe0b3;\n",
       "  --sklearn-color-unfitted-level-3: chocolate;\n",
       "  /* Definition of color scheme for fitted estimators */\n",
       "  --sklearn-color-fitted-level-0: #f0f8ff;\n",
       "  --sklearn-color-fitted-level-1: #d4ebff;\n",
       "  --sklearn-color-fitted-level-2: #b3dbfd;\n",
       "  --sklearn-color-fitted-level-3: cornflowerblue;\n",
       "\n",
       "  /* Specific color for light theme */\n",
       "  --sklearn-color-text-on-default-background: var(--sg-text-color, var(--theme-code-foreground, var(--jp-content-font-color1, black)));\n",
       "  --sklearn-color-background: var(--sg-background-color, var(--theme-background, var(--jp-layout-color0, white)));\n",
       "  --sklearn-color-border-box: var(--sg-text-color, var(--theme-code-foreground, var(--jp-content-font-color1, black)));\n",
       "  --sklearn-color-icon: #696969;\n",
       "\n",
       "  @media (prefers-color-scheme: dark) {\n",
       "    /* Redefinition of color scheme for dark theme */\n",
       "    --sklearn-color-text-on-default-background: var(--sg-text-color, var(--theme-code-foreground, var(--jp-content-font-color1, white)));\n",
       "    --sklearn-color-background: var(--sg-background-color, var(--theme-background, var(--jp-layout-color0, #111)));\n",
       "    --sklearn-color-border-box: var(--sg-text-color, var(--theme-code-foreground, var(--jp-content-font-color1, white)));\n",
       "    --sklearn-color-icon: #878787;\n",
       "  }\n",
       "}\n",
       "\n",
       "#sk-container-id-2 {\n",
       "  color: var(--sklearn-color-text);\n",
       "}\n",
       "\n",
       "#sk-container-id-2 pre {\n",
       "  padding: 0;\n",
       "}\n",
       "\n",
       "#sk-container-id-2 input.sk-hidden--visually {\n",
       "  border: 0;\n",
       "  clip: rect(1px 1px 1px 1px);\n",
       "  clip: rect(1px, 1px, 1px, 1px);\n",
       "  height: 1px;\n",
       "  margin: -1px;\n",
       "  overflow: hidden;\n",
       "  padding: 0;\n",
       "  position: absolute;\n",
       "  width: 1px;\n",
       "}\n",
       "\n",
       "#sk-container-id-2 div.sk-dashed-wrapped {\n",
       "  border: 1px dashed var(--sklearn-color-line);\n",
       "  margin: 0 0.4em 0.5em 0.4em;\n",
       "  box-sizing: border-box;\n",
       "  padding-bottom: 0.4em;\n",
       "  background-color: var(--sklearn-color-background);\n",
       "}\n",
       "\n",
       "#sk-container-id-2 div.sk-container {\n",
       "  /* jupyter's `normalize.less` sets `[hidden] { display: none; }`\n",
       "     but bootstrap.min.css set `[hidden] { display: none !important; }`\n",
       "     so we also need the `!important` here to be able to override the\n",
       "     default hidden behavior on the sphinx rendered scikit-learn.org.\n",
       "     See: https://github.com/scikit-learn/scikit-learn/issues/21755 */\n",
       "  display: inline-block !important;\n",
       "  position: relative;\n",
       "}\n",
       "\n",
       "#sk-container-id-2 div.sk-text-repr-fallback {\n",
       "  display: none;\n",
       "}\n",
       "\n",
       "div.sk-parallel-item,\n",
       "div.sk-serial,\n",
       "div.sk-item {\n",
       "  /* draw centered vertical line to link estimators */\n",
       "  background-image: linear-gradient(var(--sklearn-color-text-on-default-background), var(--sklearn-color-text-on-default-background));\n",
       "  background-size: 2px 100%;\n",
       "  background-repeat: no-repeat;\n",
       "  background-position: center center;\n",
       "}\n",
       "\n",
       "/* Parallel-specific style estimator block */\n",
       "\n",
       "#sk-container-id-2 div.sk-parallel-item::after {\n",
       "  content: \"\";\n",
       "  width: 100%;\n",
       "  border-bottom: 2px solid var(--sklearn-color-text-on-default-background);\n",
       "  flex-grow: 1;\n",
       "}\n",
       "\n",
       "#sk-container-id-2 div.sk-parallel {\n",
       "  display: flex;\n",
       "  align-items: stretch;\n",
       "  justify-content: center;\n",
       "  background-color: var(--sklearn-color-background);\n",
       "  position: relative;\n",
       "}\n",
       "\n",
       "#sk-container-id-2 div.sk-parallel-item {\n",
       "  display: flex;\n",
       "  flex-direction: column;\n",
       "}\n",
       "\n",
       "#sk-container-id-2 div.sk-parallel-item:first-child::after {\n",
       "  align-self: flex-end;\n",
       "  width: 50%;\n",
       "}\n",
       "\n",
       "#sk-container-id-2 div.sk-parallel-item:last-child::after {\n",
       "  align-self: flex-start;\n",
       "  width: 50%;\n",
       "}\n",
       "\n",
       "#sk-container-id-2 div.sk-parallel-item:only-child::after {\n",
       "  width: 0;\n",
       "}\n",
       "\n",
       "/* Serial-specific style estimator block */\n",
       "\n",
       "#sk-container-id-2 div.sk-serial {\n",
       "  display: flex;\n",
       "  flex-direction: column;\n",
       "  align-items: center;\n",
       "  background-color: var(--sklearn-color-background);\n",
       "  padding-right: 1em;\n",
       "  padding-left: 1em;\n",
       "}\n",
       "\n",
       "\n",
       "/* Toggleable style: style used for estimator/Pipeline/ColumnTransformer box that is\n",
       "clickable and can be expanded/collapsed.\n",
       "- Pipeline and ColumnTransformer use this feature and define the default style\n",
       "- Estimators will overwrite some part of the style using the `sk-estimator` class\n",
       "*/\n",
       "\n",
       "/* Pipeline and ColumnTransformer style (default) */\n",
       "\n",
       "#sk-container-id-2 div.sk-toggleable {\n",
       "  /* Default theme specific background. It is overwritten whether we have a\n",
       "  specific estimator or a Pipeline/ColumnTransformer */\n",
       "  background-color: var(--sklearn-color-background);\n",
       "}\n",
       "\n",
       "/* Toggleable label */\n",
       "#sk-container-id-2 label.sk-toggleable__label {\n",
       "  cursor: pointer;\n",
       "  display: block;\n",
       "  width: 100%;\n",
       "  margin-bottom: 0;\n",
       "  padding: 0.5em;\n",
       "  box-sizing: border-box;\n",
       "  text-align: center;\n",
       "}\n",
       "\n",
       "#sk-container-id-2 label.sk-toggleable__label-arrow:before {\n",
       "  /* Arrow on the left of the label */\n",
       "  content: \"▸\";\n",
       "  float: left;\n",
       "  margin-right: 0.25em;\n",
       "  color: var(--sklearn-color-icon);\n",
       "}\n",
       "\n",
       "#sk-container-id-2 label.sk-toggleable__label-arrow:hover:before {\n",
       "  color: var(--sklearn-color-text);\n",
       "}\n",
       "\n",
       "/* Toggleable content - dropdown */\n",
       "\n",
       "#sk-container-id-2 div.sk-toggleable__content {\n",
       "  max-height: 0;\n",
       "  max-width: 0;\n",
       "  overflow: hidden;\n",
       "  text-align: left;\n",
       "  /* unfitted */\n",
       "  background-color: var(--sklearn-color-unfitted-level-0);\n",
       "}\n",
       "\n",
       "#sk-container-id-2 div.sk-toggleable__content.fitted {\n",
       "  /* fitted */\n",
       "  background-color: var(--sklearn-color-fitted-level-0);\n",
       "}\n",
       "\n",
       "#sk-container-id-2 div.sk-toggleable__content pre {\n",
       "  margin: 0.2em;\n",
       "  border-radius: 0.25em;\n",
       "  color: var(--sklearn-color-text);\n",
       "  /* unfitted */\n",
       "  background-color: var(--sklearn-color-unfitted-level-0);\n",
       "}\n",
       "\n",
       "#sk-container-id-2 div.sk-toggleable__content.fitted pre {\n",
       "  /* unfitted */\n",
       "  background-color: var(--sklearn-color-fitted-level-0);\n",
       "}\n",
       "\n",
       "#sk-container-id-2 input.sk-toggleable__control:checked~div.sk-toggleable__content {\n",
       "  /* Expand drop-down */\n",
       "  max-height: 200px;\n",
       "  max-width: 100%;\n",
       "  overflow: auto;\n",
       "}\n",
       "\n",
       "#sk-container-id-2 input.sk-toggleable__control:checked~label.sk-toggleable__label-arrow:before {\n",
       "  content: \"▾\";\n",
       "}\n",
       "\n",
       "/* Pipeline/ColumnTransformer-specific style */\n",
       "\n",
       "#sk-container-id-2 div.sk-label input.sk-toggleable__control:checked~label.sk-toggleable__label {\n",
       "  color: var(--sklearn-color-text);\n",
       "  background-color: var(--sklearn-color-unfitted-level-2);\n",
       "}\n",
       "\n",
       "#sk-container-id-2 div.sk-label.fitted input.sk-toggleable__control:checked~label.sk-toggleable__label {\n",
       "  background-color: var(--sklearn-color-fitted-level-2);\n",
       "}\n",
       "\n",
       "/* Estimator-specific style */\n",
       "\n",
       "/* Colorize estimator box */\n",
       "#sk-container-id-2 div.sk-estimator input.sk-toggleable__control:checked~label.sk-toggleable__label {\n",
       "  /* unfitted */\n",
       "  background-color: var(--sklearn-color-unfitted-level-2);\n",
       "}\n",
       "\n",
       "#sk-container-id-2 div.sk-estimator.fitted input.sk-toggleable__control:checked~label.sk-toggleable__label {\n",
       "  /* fitted */\n",
       "  background-color: var(--sklearn-color-fitted-level-2);\n",
       "}\n",
       "\n",
       "#sk-container-id-2 div.sk-label label.sk-toggleable__label,\n",
       "#sk-container-id-2 div.sk-label label {\n",
       "  /* The background is the default theme color */\n",
       "  color: var(--sklearn-color-text-on-default-background);\n",
       "}\n",
       "\n",
       "/* On hover, darken the color of the background */\n",
       "#sk-container-id-2 div.sk-label:hover label.sk-toggleable__label {\n",
       "  color: var(--sklearn-color-text);\n",
       "  background-color: var(--sklearn-color-unfitted-level-2);\n",
       "}\n",
       "\n",
       "/* Label box, darken color on hover, fitted */\n",
       "#sk-container-id-2 div.sk-label.fitted:hover label.sk-toggleable__label.fitted {\n",
       "  color: var(--sklearn-color-text);\n",
       "  background-color: var(--sklearn-color-fitted-level-2);\n",
       "}\n",
       "\n",
       "/* Estimator label */\n",
       "\n",
       "#sk-container-id-2 div.sk-label label {\n",
       "  font-family: monospace;\n",
       "  font-weight: bold;\n",
       "  display: inline-block;\n",
       "  line-height: 1.2em;\n",
       "}\n",
       "\n",
       "#sk-container-id-2 div.sk-label-container {\n",
       "  text-align: center;\n",
       "}\n",
       "\n",
       "/* Estimator-specific */\n",
       "#sk-container-id-2 div.sk-estimator {\n",
       "  font-family: monospace;\n",
       "  border: 1px dotted var(--sklearn-color-border-box);\n",
       "  border-radius: 0.25em;\n",
       "  box-sizing: border-box;\n",
       "  margin-bottom: 0.5em;\n",
       "  /* unfitted */\n",
       "  background-color: var(--sklearn-color-unfitted-level-0);\n",
       "}\n",
       "\n",
       "#sk-container-id-2 div.sk-estimator.fitted {\n",
       "  /* fitted */\n",
       "  background-color: var(--sklearn-color-fitted-level-0);\n",
       "}\n",
       "\n",
       "/* on hover */\n",
       "#sk-container-id-2 div.sk-estimator:hover {\n",
       "  /* unfitted */\n",
       "  background-color: var(--sklearn-color-unfitted-level-2);\n",
       "}\n",
       "\n",
       "#sk-container-id-2 div.sk-estimator.fitted:hover {\n",
       "  /* fitted */\n",
       "  background-color: var(--sklearn-color-fitted-level-2);\n",
       "}\n",
       "\n",
       "/* Specification for estimator info (e.g. \"i\" and \"?\") */\n",
       "\n",
       "/* Common style for \"i\" and \"?\" */\n",
       "\n",
       ".sk-estimator-doc-link,\n",
       "a:link.sk-estimator-doc-link,\n",
       "a:visited.sk-estimator-doc-link {\n",
       "  float: right;\n",
       "  font-size: smaller;\n",
       "  line-height: 1em;\n",
       "  font-family: monospace;\n",
       "  background-color: var(--sklearn-color-background);\n",
       "  border-radius: 1em;\n",
       "  height: 1em;\n",
       "  width: 1em;\n",
       "  text-decoration: none !important;\n",
       "  margin-left: 1ex;\n",
       "  /* unfitted */\n",
       "  border: var(--sklearn-color-unfitted-level-1) 1pt solid;\n",
       "  color: var(--sklearn-color-unfitted-level-1);\n",
       "}\n",
       "\n",
       ".sk-estimator-doc-link.fitted,\n",
       "a:link.sk-estimator-doc-link.fitted,\n",
       "a:visited.sk-estimator-doc-link.fitted {\n",
       "  /* fitted */\n",
       "  border: var(--sklearn-color-fitted-level-1) 1pt solid;\n",
       "  color: var(--sklearn-color-fitted-level-1);\n",
       "}\n",
       "\n",
       "/* On hover */\n",
       "div.sk-estimator:hover .sk-estimator-doc-link:hover,\n",
       ".sk-estimator-doc-link:hover,\n",
       "div.sk-label-container:hover .sk-estimator-doc-link:hover,\n",
       ".sk-estimator-doc-link:hover {\n",
       "  /* unfitted */\n",
       "  background-color: var(--sklearn-color-unfitted-level-3);\n",
       "  color: var(--sklearn-color-background);\n",
       "  text-decoration: none;\n",
       "}\n",
       "\n",
       "div.sk-estimator.fitted:hover .sk-estimator-doc-link.fitted:hover,\n",
       ".sk-estimator-doc-link.fitted:hover,\n",
       "div.sk-label-container:hover .sk-estimator-doc-link.fitted:hover,\n",
       ".sk-estimator-doc-link.fitted:hover {\n",
       "  /* fitted */\n",
       "  background-color: var(--sklearn-color-fitted-level-3);\n",
       "  color: var(--sklearn-color-background);\n",
       "  text-decoration: none;\n",
       "}\n",
       "\n",
       "/* Span, style for the box shown on hovering the info icon */\n",
       ".sk-estimator-doc-link span {\n",
       "  display: none;\n",
       "  z-index: 9999;\n",
       "  position: relative;\n",
       "  font-weight: normal;\n",
       "  right: .2ex;\n",
       "  padding: .5ex;\n",
       "  margin: .5ex;\n",
       "  width: min-content;\n",
       "  min-width: 20ex;\n",
       "  max-width: 50ex;\n",
       "  color: var(--sklearn-color-text);\n",
       "  box-shadow: 2pt 2pt 4pt #999;\n",
       "  /* unfitted */\n",
       "  background: var(--sklearn-color-unfitted-level-0);\n",
       "  border: .5pt solid var(--sklearn-color-unfitted-level-3);\n",
       "}\n",
       "\n",
       ".sk-estimator-doc-link.fitted span {\n",
       "  /* fitted */\n",
       "  background: var(--sklearn-color-fitted-level-0);\n",
       "  border: var(--sklearn-color-fitted-level-3);\n",
       "}\n",
       "\n",
       ".sk-estimator-doc-link:hover span {\n",
       "  display: block;\n",
       "}\n",
       "\n",
       "/* \"?\"-specific style due to the `<a>` HTML tag */\n",
       "\n",
       "#sk-container-id-2 a.estimator_doc_link {\n",
       "  float: right;\n",
       "  font-size: 1rem;\n",
       "  line-height: 1em;\n",
       "  font-family: monospace;\n",
       "  background-color: var(--sklearn-color-background);\n",
       "  border-radius: 1rem;\n",
       "  height: 1rem;\n",
       "  width: 1rem;\n",
       "  text-decoration: none;\n",
       "  /* unfitted */\n",
       "  color: var(--sklearn-color-unfitted-level-1);\n",
       "  border: var(--sklearn-color-unfitted-level-1) 1pt solid;\n",
       "}\n",
       "\n",
       "#sk-container-id-2 a.estimator_doc_link.fitted {\n",
       "  /* fitted */\n",
       "  border: var(--sklearn-color-fitted-level-1) 1pt solid;\n",
       "  color: var(--sklearn-color-fitted-level-1);\n",
       "}\n",
       "\n",
       "/* On hover */\n",
       "#sk-container-id-2 a.estimator_doc_link:hover {\n",
       "  /* unfitted */\n",
       "  background-color: var(--sklearn-color-unfitted-level-3);\n",
       "  color: var(--sklearn-color-background);\n",
       "  text-decoration: none;\n",
       "}\n",
       "\n",
       "#sk-container-id-2 a.estimator_doc_link.fitted:hover {\n",
       "  /* fitted */\n",
       "  background-color: var(--sklearn-color-fitted-level-3);\n",
       "}\n",
       "</style><div id=\"sk-container-id-2\" class=\"sk-top-container\"><div class=\"sk-text-repr-fallback\"><pre>LassoCV(cv=5)</pre><b>In a Jupyter environment, please rerun this cell to show the HTML representation or trust the notebook. <br />On GitHub, the HTML representation is unable to render, please try loading this page with nbviewer.org.</b></div><div class=\"sk-container\" hidden><div class=\"sk-item\"><div class=\"sk-estimator fitted sk-toggleable\"><input class=\"sk-toggleable__control sk-hidden--visually\" id=\"sk-estimator-id-2\" type=\"checkbox\" checked><label for=\"sk-estimator-id-2\" class=\"sk-toggleable__label fitted sk-toggleable__label-arrow fitted\">&nbsp;&nbsp;LassoCV<a class=\"sk-estimator-doc-link fitted\" rel=\"noreferrer\" target=\"_blank\" href=\"https://scikit-learn.org/1.5/modules/generated/sklearn.linear_model.LassoCV.html\">?<span>Documentation for LassoCV</span></a><span class=\"sk-estimator-doc-link fitted\">i<span>Fitted</span></span></label><div class=\"sk-toggleable__content fitted\"><pre>LassoCV(cv=5)</pre></div> </div></div></div></div>"
      ],
      "text/plain": [
       "LassoCV(cv=5)"
      ]
     },
     "execution_count": 31,
     "metadata": {},
     "output_type": "execute_result"
    }
   ],
   "source": [
    "from sklearn.linear_model import LassoCV\n",
    "cv = LassoCV(cv=5)\n",
    "cv.fit(x_train_scaled,y_train)"
   ]
  },
  {
   "cell_type": "code",
   "execution_count": 32,
   "metadata": {},
   "outputs": [
    {
     "data": {
      "text/plain": [
       "array([ 5.5532209 ,  3.27627655, -0.09900091,  1.68545205,  0.86634039,\n",
       "       12.8931535 ,  3.37737797, -0.6531525 ,  9.77296649,  3.35246386,\n",
       "        1.05481421,  0.71601452, -0.26269947,  5.27981743, -0.28859121,\n",
       "       -0.51064747, -0.58250771, -0.53670494,  0.11595314, -0.60363612,\n",
       "        9.8450914 , 11.26993126,  8.17778335, -0.21416815,  1.63604146,\n",
       "        1.53812107, -0.28491667,  1.25053826, -1.19592155,  4.82780699,\n",
       "        7.46466944, 17.79456793, -0.04472509,  0.99628917,  5.01902969,\n",
       "        0.65466477,  3.97229948,  2.16864086, 18.84077403,  0.29950817,\n",
       "        8.11904746,  9.2926868 ,  4.1022762 ,  4.62356278,  2.42272402,\n",
       "        0.76805168,  0.11852407, 11.28933919,  6.7980908 ,  1.79115379,\n",
       "        9.06272676, 12.28776186, -0.58173509, -0.24653637, 21.08085945,\n",
       "        7.19565791,  4.54771571, -0.37538387, 14.30257791, -0.48015633,\n",
       "       14.21263095])"
      ]
     },
     "execution_count": 32,
     "metadata": {},
     "output_type": "execute_result"
    }
   ],
   "source": [
    "cv.predict(x_test_scaled)"
   ]
  },
  {
   "cell_type": "code",
   "execution_count": 33,
   "metadata": {},
   "outputs": [
    {
     "data": {
      "text/plain": [
       "0.04364552341328106"
      ]
     },
     "execution_count": 33,
     "metadata": {},
     "output_type": "execute_result"
    }
   ],
   "source": [
    "cv.alpha_"
   ]
  },
  {
   "cell_type": "code",
   "execution_count": 34,
   "metadata": {},
   "outputs": [
    {
     "data": {
      "text/plain": [
       "array([7.11313282, 6.63373148, 6.18664018, 5.76968133, 5.38082412,\n",
       "       5.01817459, 4.67996641, 4.36455234, 4.07039612, 3.79606505,\n",
       "       3.54022297, 3.30162379, 3.07910539, 2.871584  , 2.67804885,\n",
       "       2.49755732, 2.32923031, 2.17224799, 2.02584574, 1.88931052,\n",
       "       1.76197731, 1.64322594, 1.53247801, 1.42919412, 1.33287122,\n",
       "       1.24304016, 1.15926342, 1.08113294, 1.0082682 , 0.9403143 ,\n",
       "       0.87694026, 0.81783742, 0.76271792, 0.71131328, 0.66337315,\n",
       "       0.61866402, 0.57696813, 0.53808241, 0.50181746, 0.46799664,\n",
       "       0.43645523, 0.40703961, 0.3796065 , 0.3540223 , 0.33016238,\n",
       "       0.30791054, 0.2871584 , 0.26780488, 0.24975573, 0.23292303,\n",
       "       0.2172248 , 0.20258457, 0.18893105, 0.17619773, 0.16432259,\n",
       "       0.1532478 , 0.14291941, 0.13328712, 0.12430402, 0.11592634,\n",
       "       0.10811329, 0.10082682, 0.09403143, 0.08769403, 0.08178374,\n",
       "       0.07627179, 0.07113133, 0.06633731, 0.0618664 , 0.05769681,\n",
       "       0.05380824, 0.05018175, 0.04679966, 0.04364552, 0.04070396,\n",
       "       0.03796065, 0.03540223, 0.03301624, 0.03079105, 0.02871584,\n",
       "       0.02678049, 0.02497557, 0.0232923 , 0.02172248, 0.02025846,\n",
       "       0.01889311, 0.01761977, 0.01643226, 0.01532478, 0.01429194,\n",
       "       0.01332871, 0.0124304 , 0.01159263, 0.01081133, 0.01008268,\n",
       "       0.00940314, 0.0087694 , 0.00817837, 0.00762718, 0.00711313])"
      ]
     },
     "execution_count": 34,
     "metadata": {},
     "output_type": "execute_result"
    }
   ],
   "source": [
    "cv.alphas_"
   ]
  },
  {
   "cell_type": "code",
   "execution_count": 35,
   "metadata": {},
   "outputs": [
    {
     "data": {
      "text/plain": [
       "array([[83.65116757, 49.34468159, 52.60248765, 60.75612586, 53.91821181],\n",
       "       [82.83091139, 44.64418538, 46.14566492, 55.05708047, 47.15370668],\n",
       "       [75.0080524 , 40.48239617, 40.50724619, 47.87627825, 41.22589043],\n",
       "       [68.12166353, 35.66922334, 35.59281194, 41.68838457, 36.06786234],\n",
       "       [62.05532648, 31.46504982, 31.30872603, 36.36005341, 31.57947058],\n",
       "       [56.70741196, 27.79140526, 27.57348582, 31.77588153, 27.67357617],\n",
       "       [51.98917869, 24.58088629, 24.3163329 , 27.83548379, 24.27458091],\n",
       "       [45.62483089, 21.77394183, 21.47550935, 24.45171611, 21.31652201],\n",
       "       [39.93003984, 19.31898971, 18.99732148, 21.54942705, 18.74208745],\n",
       "       [34.9697335 , 17.17110019, 16.8349702 , 19.06302911, 16.50134264],\n",
       "       [30.64877915, 15.29113382, 14.94791071, 16.9358    , 14.55108953],\n",
       "       [26.88364942, 13.64469944, 13.30065271, 15.11857765, 12.85350758],\n",
       "       [23.60378049, 12.20270734, 11.86236549, 13.56855902, 11.37577714],\n",
       "       [20.74565705, 10.93893131, 10.60620688, 12.24926935, 10.08934728],\n",
       "       [18.25471388,  9.83080563,  9.50880557, 11.12853239,  8.9693801 ],\n",
       "       [16.08346864,  8.85866039,  8.54977201, 10.17868584,  7.99420487],\n",
       "       [14.19060047,  8.00534706,  7.71147074,  9.37579198,  7.14515935],\n",
       "       [12.54014905,  7.25591273,  6.97841783,  8.69914417,  6.40581368],\n",
       "       [11.10081777,  6.59731677,  6.33717016,  8.13083836,  5.7619392 ],\n",
       "       [ 9.84481033,  6.01818407,  5.77601774,  7.65515045,  5.20115658],\n",
       "       [ 8.749605  ,  5.508393  ,  5.2847591 ,  7.25923327,  4.71269514],\n",
       "       [ 7.79392714,  5.05970338,  4.85450596,  6.93127745,  4.2871836 ],\n",
       "       [ 6.95981275,  4.6643305 ,  4.47751325,  6.66132565,  3.91646801],\n",
       "       [ 6.23162449,  4.31567485,  4.14703113,  6.44079246,  3.59345342],\n",
       "       [ 5.59574856,  4.00797365,  3.8571901 ,  6.26228019,  3.31195142],\n",
       "       [ 5.04033204,  3.73619302,  3.60283733,  6.11941944,  3.06662468],\n",
       "       [ 4.55505434,  3.49593448,  3.37951054,  6.00673083,  2.85277723],\n",
       "       [ 4.1309284 ,  3.2833536 ,  3.18331038,  5.91950502,  2.66634081],\n",
       "       [ 3.76012772,  3.09508905,  3.0108358 ,  5.85342778,  2.50377496],\n",
       "       [ 3.43583587,  2.92820091,  2.85911985,  5.80559102,  2.36199834],\n",
       "       [ 3.15182862,  2.78011685,  2.72557369,  5.77273536,  2.2383291 ],\n",
       "       [ 2.90354443,  2.64848479,  2.60793794,  5.75231866,  2.13043293],\n",
       "       [ 2.68615019,  2.53154685,  2.50424028,  5.74217078,  2.03627795],\n",
       "       [ 2.49571893,  2.42746144,  2.41275854,  5.74044135,  1.95409541],\n",
       "       [ 2.32882987,  2.33471435,  2.3320439 ,  5.74555556,  1.88236898],\n",
       "       [ 2.18250163,  2.25197829,  2.2606708 ,  5.75617598,  1.81971231],\n",
       "       [ 2.05413547,  2.1780888 ,  2.19754632,  5.7711694 ,  1.76498   ],\n",
       "       [ 1.94146574,  2.11202366,  2.14166705,  5.78927766,  1.71715598],\n",
       "       [ 1.84251696,  2.05288504,  2.09215513,  5.81031319,  1.67535532],\n",
       "       [ 1.75556628,  1.99988389,  2.04824259,  5.83328207,  1.63880734],\n",
       "       [ 1.67911091,  1.9523263 ,  2.00925737,  5.85761488,  1.6068408 ],\n",
       "       [ 1.61183979,  1.90960163,  1.97461109,  5.88284037,  1.57887104],\n",
       "       [ 1.55248354,  1.87112135,  1.94378839,  5.90856851,  1.5543887 ],\n",
       "       [ 1.50030973,  1.83651929,  1.9163377 ,  5.9344785 ,  1.53295005],\n",
       "       [ 1.454305  ,  1.80532042,  1.89186312,  5.96030855,  1.51416843],\n",
       "       [ 1.40586285,  1.77241421,  1.86093178,  5.98584701,  1.49775446],\n",
       "       [ 1.35818406,  1.73021963,  1.82865759,  6.01092476,  1.4812516 ],\n",
       "       [ 1.31611997,  1.69297088,  1.80038392,  6.03540868,  1.44485388],\n",
       "       [ 1.27893899,  1.66003466,  1.77563037,  6.03923609,  1.41322839],\n",
       "       [ 1.24775619,  1.63088549,  1.75394961,  6.03686813,  1.38565787],\n",
       "       [ 1.22053871,  1.60506398,  1.73499289,  6.03674947,  1.36166216],\n",
       "       [ 1.19643042,  1.5822797 ,  1.71878246,  6.05272999,  1.34077705],\n",
       "       [ 1.17467636,  1.56326147,  1.70478306,  6.09448727,  1.32421331],\n",
       "       [ 1.1551769 ,  1.54501455,  1.69269504,  6.13814077,  1.31062295],\n",
       "       [ 1.13782456,  1.52924363,  1.68226349,  6.18257988,  1.29903328],\n",
       "       [ 1.12217439,  1.51559713,  1.67326711,  6.22810933,  1.28942789],\n",
       "       [ 1.10841536,  1.50378819,  1.66551383,  6.27373358,  1.28140109],\n",
       "       [ 1.07576807,  1.48520523,  1.65892845,  6.31903509,  1.27471727],\n",
       "       [ 1.04639905,  1.45579504,  1.65317886,  6.36367566,  1.24672896],\n",
       "       [ 1.02113432,  1.42970081,  1.64823427,  6.40738715,  1.21442971],\n",
       "       [ 0.99940901,  1.40695471,  1.62941361,  6.44996329,  1.18645354],\n",
       "       [ 0.9805651 ,  1.38694185,  1.5937191 ,  6.49124476,  1.16212693],\n",
       "       [ 0.96456866,  1.36932379,  1.56134586,  6.53055003,  1.14097515],\n",
       "       [ 0.95085522,  1.35380288,  1.53211944,  6.56895355,  1.12239695],\n",
       "       [ 0.93911665,  1.33993434,  1.50557395,  6.60579463,  1.10642258],\n",
       "       [ 0.92908296,  1.32787593,  1.48162613,  6.64105056,  1.09253309],\n",
       "       [ 0.92052024,  1.31722706,  1.4599129 ,  6.67469461,  1.0804581 ],\n",
       "       [ 0.91307287,  1.30781637,  1.4401994 ,  6.70669628,  1.0699609 ],\n",
       "       [ 0.90688288,  1.29949265,  1.42228116,  6.73813834,  1.06083565],\n",
       "       [ 0.90161027,  1.29212366,  1.4059764 ,  6.76985173,  1.05276735],\n",
       "       [ 0.89840261,  1.28559379,  1.39112351,  6.79390834,  1.04588022],\n",
       "       [ 0.89723186,  1.27966332,  1.3775636 ,  6.81279007,  1.03989541],\n",
       "       [ 0.89656424,  1.27474953,  1.36518917,  6.82994123,  1.03469413],\n",
       "       [ 0.89873226,  1.27075545,  1.35389077,  6.8463648 ,  1.03017415],\n",
       "       [ 0.90233409,  1.26812978,  1.34313263,  6.86205553,  1.02624648],\n",
       "       [ 0.9061492 ,  1.26671416,  1.33363359,  6.87813735,  1.02305232],\n",
       "       [ 0.91010974,  1.26593452,  1.32502603,  6.89423198,  1.02091997],\n",
       "       [ 0.91414719,  1.26565262,  1.31708351,  6.90956554,  1.01918833],\n",
       "       [ 0.91821429,  1.26566293,  1.30935171,  6.92416433,  1.01719394],\n",
       "       [ 0.92226886,  1.26611781,  1.30221288,  6.93846003,  1.01487651],\n",
       "       [ 0.92323181,  1.2668373 ,  1.29577686,  6.95160391,  1.01288322],\n",
       "       [ 0.92360732,  1.26817372,  1.28984931,  6.96404524,  1.01110009],\n",
       "       [ 0.92437029,  1.26996471,  1.28456507,  6.97582026,  1.00962678],\n",
       "       [ 0.92510893,  1.27172292,  1.27977873,  6.98695025,  1.00836424],\n",
       "       [ 0.92615179,  1.27368438,  1.27534515,  6.99748797,  1.00721051],\n",
       "       [ 0.92710811,  1.27552646,  1.27138057,  7.00763295,  1.00628233],\n",
       "       [ 0.92811702,  1.27753914,  1.2677853 ,  7.01697215,  1.00549343],\n",
       "       [ 0.92934762,  1.27936915,  1.26444501,  7.02572554,  1.00474897],\n",
       "       [ 0.93044933,  1.28135199,  1.26143586,  7.03396643,  1.00417055],\n",
       "       [ 0.93153986,  1.28330799,  1.25870927,  7.04180624,  1.00368727],\n",
       "       [ 0.93263304,  1.28521585,  1.25621785,  7.04915554,  1.00320956],\n",
       "       [ 0.93371965,  1.28688877,  1.25393818,  7.05598486,  1.00285241],\n",
       "       [ 0.93492969,  1.28867176,  1.25181604,  7.06239763,  1.00256496],\n",
       "       [ 0.93600232,  1.29040788,  1.24987421,  7.0684161 ,  1.00232504],\n",
       "       [ 0.9370168 ,  1.29207537,  1.24811855,  7.07312736,  1.00206526],\n",
       "       [ 0.93799899,  1.29367238,  1.24650914,  7.07637114,  1.00188027],\n",
       "       [ 0.93907131,  1.29503306,  1.24503018,  7.07890732,  1.00174554],\n",
       "       [ 0.93989518,  1.29647043,  1.2436634 ,  7.08107182,  1.00163817],\n",
       "       [ 0.94085098,  1.29786468,  1.24237686,  7.08306994,  1.00155184],\n",
       "       [ 0.94171589,  1.29919047,  1.24121954,  7.08495071,  1.00148324]])"
      ]
     },
     "execution_count": 35,
     "metadata": {},
     "output_type": "execute_result"
    }
   ],
   "source": [
    "cv.mse_path_"
   ]
  },
  {
   "cell_type": "code",
   "execution_count": 36,
   "metadata": {},
   "outputs": [
    {
     "name": "stdout",
     "output_type": "stream",
     "text": [
      "Mean Absolute Error:  0.5354004415846029\n",
      "R2 score:  0.9831589080295335\n"
     ]
    },
    {
     "data": {
      "image/png": "[encoded data removed]",
      "text/plain": [
       "<Figure size 640x480 with 1 Axes>"
      ]
     },
     "metadata": {},
     "output_type": "display_data"
    }
   ],
   "source": [
    "y_pred = cv.predict(x_test_scaled)\n",
    "plt.scatter(y_test,y_pred)\n",
    "mae = mean_absolute_error(y_test,y_pred)\n",
    "score = r2_score(y_test,y_pred)\n",
    "print(\"Mean Absolute Error: \",mae)\n",
    "print(\"R2 score: \",score)"
   ]
  },
  {
   "cell_type": "markdown",
   "metadata": {},
   "source": [
    "## Ridge Regression Model"
   ]
  },
  {
   "cell_type": "code",
   "execution_count": 23,
   "metadata": {},
   "outputs": [
    {
     "name": "stdout",
     "output_type": "stream",
     "text": [
      "Mean Absolute Error:  0.5500259709874813\n",
      "R2 score:  0.9822511075261627\n"
     ]
    },
    {
     "data": {
      "text/plain": [
       "<matplotlib.collections.PathCollection at 0x13999f6f020>"
      ]
     },
     "execution_count": 23,
     "metadata": {},
     "output_type": "execute_result"
    },
    {
     "data": {
      "image/png": "[encoded data removed]",
      "text/plain": [
       "<Figure size 640x480 with 1 Axes>"
      ]
     },
     "metadata": {},
     "output_type": "display_data"
    }
   ],
   "source": [
    "from sklearn.linear_model import Ridge\n",
    "from sklearn.metrics import mean_absolute_error\n",
    "from sklearn.metrics import r2_score\n",
    "ridge= Ridge()\n",
    "ridge.fit(x_train_scaled,y_train)\n",
    "y_pred = ridge.predict(x_test_scaled)\n",
    "mae = mean_absolute_error(y_test,y_pred)\n",
    "score = r2_score(y_test,y_pred)\n",
    "print(\"Mean Absolute Error: \",mae)\n",
    "print(\"R2 score: \",score)\n",
    "plt.scatter(y_test,y_pred)"
   ]
  },
  {
   "cell_type": "code",
   "execution_count": 37,
   "metadata": {},
   "outputs": [
    {
     "name": "stdout",
     "output_type": "stream",
     "text": [
      "Mean Absolute Error:  0.5500259709874813\n",
      "R2 score:  0.9822511075261627\n"
     ]
    },
    {
     "data": {
      "image/png": "[encoded data removed]",
      "text/plain": [
       "<Figure size 640x480 with 1 Axes>"
      ]
     },
     "metadata": {},
     "output_type": "display_data"
    }
   ],
   "source": [
    "from sklearn.linear_model import RidgeCV\n",
    "rcv = RidgeCV(cv=5)\n",
    "rcv.fit(x_train_scaled,y_train)\n",
    "y_pred = rcv.predict(x_test_scaled)\n",
    "plt.scatter(y_test,y_pred)\n",
    "mae = mean_absolute_error(y_test,y_pred)\n",
    "score = r2_score(y_test,y_pred)\n",
    "print(\"Mean Absolute Error: \",mae)\n",
    "print(\"R2 score: \",score)"
   ]
  },
  {
   "cell_type": "code",
   "execution_count": 40,
   "metadata": {},
   "outputs": [
    {
     "data": {
      "text/plain": [
       "(0.1, 1.0, 10.0)"
      ]
     },
     "execution_count": 40,
     "metadata": {},
     "output_type": "execute_result"
    }
   ],
   "source": [
    "rcv.alphas"
   ]
  },
  {
   "cell_type": "code",
   "execution_count": 42,
   "metadata": {},
   "outputs": [
    {
     "data": {
      "text/plain": [
       "{'alpha_per_target': False,\n",
       " 'alphas': (0.1, 1.0, 10.0),\n",
       " 'cv': 5,\n",
       " 'fit_intercept': True,\n",
       " 'gcv_mode': None,\n",
       " 'scoring': None,\n",
       " 'store_cv_results': None,\n",
       " 'store_cv_values': 'deprecated'}"
      ]
     },
     "execution_count": 42,
     "metadata": {},
     "output_type": "execute_result"
    }
   ],
   "source": [
    "rcv.get_params()"
   ]
  },
  {
   "cell_type": "markdown",
   "metadata": {},
   "source": [
    "## ElasticNet Regression"
   ]
  },
  {
   "cell_type": "code",
   "execution_count": 24,
   "metadata": {},
   "outputs": [
    {
     "name": "stdout",
     "output_type": "stream",
     "text": [
      "Mean Absolute Error:  1.4162570744672374\n",
      "R2 score:  0.8988470860724427\n"
     ]
    },
    {
     "data": {
      "text/plain": [
       "<matplotlib.collections.PathCollection at 0x1399a06dc40>"
      ]
     },
     "execution_count": 24,
     "metadata": {},
     "output_type": "execute_result"
    },
    {
     "data": {
      "image/png": "[encoded data removed]",
      "text/plain": [
       "<Figure size 640x480 with 1 Axes>"
      ]
     },
     "metadata": {},
     "output_type": "display_data"
    }
   ],
   "source": [
    "from sklearn.linear_model import ElasticNet\n",
    "from sklearn.metrics import mean_absolute_error\n",
    "from sklearn.metrics import r2_score\n",
    "elasticnet = ElasticNet()\n",
    "elasticnet.fit(x_train_scaled,y_train)\n",
    "y_pred = elasticnet.predict(x_test_scaled)\n",
    "mae = mean_absolute_error(y_test,y_pred)\n",
    "score = r2_score(y_test,y_pred)\n",
    "print(\"Mean Absolute Error: \",mae)\n",
    "print(\"R2 score: \",score)\n",
    "plt.scatter(y_test,y_pred)"
   ]
  },
  {
   "cell_type": "code",
   "execution_count": 43,
   "metadata": {},
   "outputs": [
    {
     "name": "stdout",
     "output_type": "stream",
     "text": [
      "Mean Absolute Error:  0.5695000004804175\n",
      "R2 score:  0.9817541322032908\n"
     ]
    },
    {
     "data": {
      "image/png": "[encoded data removed]",
      "text/plain": [
       "<Figure size 640x480 with 1 Axes>"
      ]
     },
     "metadata": {},
     "output_type": "display_data"
    }
   ],
   "source": [
    "from sklearn.linear_model import ElasticNetCV\n",
    "encv = ElasticNetCV(cv=5)\n",
    "encv.fit(x_train_scaled,y_train)\n",
    "y_pred = encv.predict(x_test_scaled)\n",
    "plt.scatter(y_test,y_pred)\n",
    "mae = mean_absolute_error(y_test,y_pred)\n",
    "score = r2_score(y_test,y_pred)\n",
    "print(\"Mean Absolute Error: \",mae)\n",
    "print(\"R2 score: \",score)"
   ]
  },
  {
   "cell_type": "code",
   "execution_count": 44,
   "metadata": {},
   "outputs": [
    {
     "data": {
      "text/plain": [
       "array([14.22626564, 13.26746295, 12.37328035, 11.53936267, 10.76164825,\n",
       "       10.03634917,  9.35993283,  8.72910468,  8.14079224,  7.59213009,\n",
       "        7.08044593,  6.60324757,  6.15821079,  5.74316799,  5.35609769,\n",
       "        4.99511463,  4.65846062,  4.34449597,  4.05169148,  3.77862104,\n",
       "        3.52395463,  3.28645188,  3.06495602,  2.85838824,  2.66574244,\n",
       "        2.48608032,  2.31852683,  2.16226588,  2.0165364 ,  1.88062859,\n",
       "        1.75388052,  1.63567484,  1.52543583,  1.42262656,  1.3267463 ,\n",
       "        1.23732804,  1.15393627,  1.07616482,  1.00363492,  0.93599328,\n",
       "        0.87291047,  0.81407922,  0.75921301,  0.70804459,  0.66032476,\n",
       "        0.61582108,  0.5743168 ,  0.53560977,  0.49951146,  0.46584606,\n",
       "        0.4344496 ,  0.40516915,  0.3778621 ,  0.35239546,  0.32864519,\n",
       "        0.3064956 ,  0.28583882,  0.26657424,  0.24860803,  0.23185268,\n",
       "        0.21622659,  0.20165364,  0.18806286,  0.17538805,  0.16356748,\n",
       "        0.15254358,  0.14226266,  0.13267463,  0.1237328 ,  0.11539363,\n",
       "        0.10761648,  0.10036349,  0.09359933,  0.08729105,  0.08140792,\n",
       "        0.0759213 ,  0.07080446,  0.06603248,  0.06158211,  0.05743168,\n",
       "        0.05356098,  0.04995115,  0.04658461,  0.04344496,  0.04051691,\n",
       "        0.03778621,  0.03523955,  0.03286452,  0.03064956,  0.02858388,\n",
       "        0.02665742,  0.0248608 ,  0.02318527,  0.02162266,  0.02016536,\n",
       "        0.01880629,  0.01753881,  0.01635675,  0.01525436,  0.01422627])"
      ]
     },
     "execution_count": 44,
     "metadata": {},
     "output_type": "execute_result"
    }
   ],
   "source": [
    "encv.alphas_"
   ]
  },
  {
   "cell_type": "code",
   "execution_count": null,
   "metadata": {},
   "outputs": [],
   "source": []
  }
 ],
 "metadata": {
  "kernelspec": {
   "display_name": "Python 3",
   "language": "python",
   "name": "python3"
  },
  "language_info": {
   "codemirror_mode": {
    "name": "ipython",
    "version": 3
   },
   "file_extension": ".py",
   "mimetype": "text/x-python",
   "name": "python",
   "nbconvert_exporter": "python",
   "pygments_lexer": "ipython3",
   "version": "3.12.5"
  }
 },
 "nbformat": 4,
 "nbformat_minor": 2
}
